{
  "nbformat": 4,
  "nbformat_minor": 0,
  "metadata": {
    "colab": {
      "name": "Demand Forecasting- Uni-variate time Series Forecasting.ipynb",
      "provenance": []
    },
    "kernelspec": {
      "name": "python3",
      "display_name": "Python 3"
    },
    "accelerator": "GPU"
  },
  "cells": [
    {
      "cell_type": "markdown",
      "metadata": {
        "id": "8GL1GeVMb25I",
        "colab_type": "text"
      },
      "source": [
        "PJM Interconnection LLC (PJM) is a regional transmission organization (RTO) in the United States. The hourly power consumption data comes from https://www.kaggle.com/robikscube/hourly-energy-consumption?select=PJME_hourly.csv and are in megawatts (MW).\n"
      ]
    },
    {
      "cell_type": "code",
      "metadata": {
        "id": "7CO9-ty0b-2o",
        "colab_type": "code",
        "colab": {}
      },
      "source": [
        "import pandas as pd\n",
        "import matplotlib.pyplot as plt \n",
        "from datetime import datetime as dt\n",
        "import xgboost as xgb\n",
        "from xgboost import plot_importance, plot_tree\n",
        "from sklearn.metrics import mean_squared_error, mean_absolute_error"
      ],
      "execution_count": 150,
      "outputs": []
    },
    {
      "cell_type": "code",
      "metadata": {
        "id": "Tm4vxRSAb--5",
        "colab_type": "code",
        "colab": {}
      },
      "source": [
        "df = pd.read_csv('PJME_hourly.csv')\n",
        "df.head()"
      ],
      "execution_count": null,
      "outputs": []
    },
    {
      "cell_type": "code",
      "metadata": {
        "id": "S3_ulb6jC-2P",
        "colab_type": "code",
        "colab": {}
      },
      "source": [
        "df.isnull().sum()"
      ],
      "execution_count": null,
      "outputs": []
    },
    {
      "cell_type": "markdown",
      "metadata": {
        "id": "6gnpvWAUDO6K",
        "colab_type": "text"
      },
      "source": [
        "**IMPUTATION**"
      ]
    },
    {
      "cell_type": "code",
      "metadata": {
        "id": "iKk6-qxcDFQU",
        "colab_type": "code",
        "colab": {}
      },
      "source": [
        "# Forward-fill\n",
        "df.ffill(inplace=True)\n",
        "df.isnull().sum()"
      ],
      "execution_count": null,
      "outputs": []
    },
    {
      "cell_type": "markdown",
      "metadata": {
        "id": "oRR05UnNt-LO",
        "colab_type": "text"
      },
      "source": [
        "**SET DATETIME**"
      ]
    },
    {
      "cell_type": "code",
      "metadata": {
        "id": "MtE2k2DL0epB",
        "colab_type": "code",
        "colab": {}
      },
      "source": [
        "df['Datetime']= pd.to_datetime(df['Datetime'])\n",
        "df.head()"
      ],
      "execution_count": null,
      "outputs": []
    },
    {
      "cell_type": "markdown",
      "metadata": {
        "id": "ZfG1Q3nhdpGB",
        "colab_type": "text"
      },
      "source": [
        "**FEATURE ENGINEERING** "
      ]
    },
    {
      "cell_type": "code",
      "metadata": {
        "id": "74ZCNxEAzeLM",
        "colab_type": "code",
        "colab": {}
      },
      "source": [
        "df['hour'] = df['Datetime'].dt.hour\n",
        "df['dayofweek'] = df['Datetime'].dt.dayofweek\n",
        "df['quarter'] = df['Datetime'].dt.quarter\n",
        "df['month'] = df['Datetime'].dt.month\n",
        "df['year'] = df['Datetime'].dt.year\n",
        "df['dayofyear'] = df['Datetime'].dt.dayofyear\n",
        "df['dayofmonth'] = df['Datetime'].dt.day\n",
        "df['weekofyear'] = df['Datetime'].dt.weekofyear\n",
        "\n",
        "df['Datetime'] = df['Datetime'].apply(lambda x: pd.Timestamp(x).strftime('%Y-%m-%d'))\n",
        "\n",
        "df.head()"
      ],
      "execution_count": null,
      "outputs": []
    },
    {
      "cell_type": "markdown",
      "metadata": {
        "id": "mmMtuJ5ipXhq",
        "colab_type": "text"
      },
      "source": [
        "**SPLIT DATA - TRAIN & TEST**"
      ]
    },
    {
      "cell_type": "code",
      "metadata": {
        "id": "pjSxOrD6pTGV",
        "colab_type": "code",
        "colab": {
          "base_uri": "https://localhost:8080/",
          "height": 34
        },
        "outputId": "5f4c0920-be4c-47dd-f39d-acc1dce2e5e7"
      },
      "source": [
        "train_set = df[df['Datetime'] < '2015-01-01']\n",
        "test_set = df[df['Datetime'] > '2015-01-01']\n",
        "train_set.set_index('Datetime',inplace=True)\n",
        "test_set.set_index('Datetime',inplace=True)\n",
        "train_set.head()\n",
        "test_set.shape"
      ],
      "execution_count": 157,
      "outputs": [
        {
          "output_type": "execute_result",
          "data": {
            "text/plain": [
              "(31416, 9)"
            ]
          },
          "metadata": {
            "tags": []
          },
          "execution_count": 157
        }
      ]
    },
    {
      "cell_type": "code",
      "metadata": {
        "id": "WoAI6OcZ3fN1",
        "colab_type": "code",
        "colab": {}
      },
      "source": [
        "X_train = train_set.drop(['PJME_MW'], axis=1)\n",
        "Y_train= train_set['PJME_MW']\n",
        "print(\"X_train shape:\", X_train.shape)\n",
        "print(\"Y_train shape:\", Y_train.shape)\n",
        "\n",
        "X_test = test_set.drop(['PJME_MW'], axis=1)\n",
        "Y_test = test_set['PJME_MW']\n",
        "print(\"X_test shape:\", X_test.shape)\n",
        "print(\"Y_test shape:\", Y_test.shape)\n"
      ],
      "execution_count": null,
      "outputs": []
    },
    {
      "cell_type": "markdown",
      "metadata": {
        "id": "HLFCP7k8eDju",
        "colab_type": "text"
      },
      "source": [
        "**MODEL TRAINING**"
      ]
    },
    {
      "cell_type": "code",
      "metadata": {
        "id": "notwYfwzeBy_",
        "colab_type": "code",
        "colab": {}
      },
      "source": [
        "best_xgb_model = xgb.XGBRegressor(colsample_bytree=0.4,\n",
        "                 gamma=0,                 \n",
        "                 learning_rate=0.07,\n",
        "                 max_depth=3,\n",
        "                 min_child_weight=1.5,\n",
        "                 n_estimators=10000,                                                                    \n",
        "                 reg_alpha=0.75,\n",
        "                 reg_lambda=0.45,\n",
        "                 subsample=0.6,\n",
        "                 seed=42)\n",
        "best_xgb_model.fit(X_train,Y_train)"
      ],
      "execution_count": null,
      "outputs": []
    },
    {
      "cell_type": "code",
      "metadata": {
        "id": "EsiCWJnf81gw",
        "colab_type": "code",
        "colab": {
          "base_uri": "https://localhost:8080/",
          "height": 34
        },
        "outputId": "2482af97-7d22-42ad-a4de-280a1993e4fe"
      },
      "source": [
        "y_pred = best_xgb_model.predict(X_test)\n",
        "mean_squared_error(Y_test, y_pred)"
      ],
      "execution_count": 160,
      "outputs": [
        {
          "output_type": "execute_result",
          "data": {
            "text/plain": [
              "17062980.64829043"
            ]
          },
          "metadata": {
            "tags": []
          },
          "execution_count": 160
        }
      ]
    },
    {
      "cell_type": "code",
      "metadata": {
        "id": "GPcvcrmEFb4M",
        "colab_type": "code",
        "colab": {
          "base_uri": "https://localhost:8080/",
          "height": 34
        },
        "outputId": "1906d4f0-4d85-4acf-c746-3b192d2ad145"
      },
      "source": [
        "#Mean absolute Percentage Error\n",
        "import numpy as np\n",
        "Y_test, y_pred = np.array(Y_test), np.array(y_pred)\n",
        "np.mean(np.abs((Y_test - y_pred) / Y_test)) * 100"
      ],
      "execution_count": 162,
      "outputs": [
        {
          "output_type": "execute_result",
          "data": {
            "text/plain": [
              "9.703606961682798"
            ]
          },
          "metadata": {
            "tags": []
          },
          "execution_count": 162
        }
      ]
    },
    {
      "cell_type": "markdown",
      "metadata": {
        "id": "q-52I7f0KnFP",
        "colab_type": "text"
      },
      "source": [
        "**FEATURE IMPORTANCE**"
      ]
    },
    {
      "cell_type": "code",
      "metadata": {
        "id": "AO-EFQ6WGVqh",
        "colab_type": "code",
        "colab": {
          "base_uri": "https://localhost:8080/",
          "height": 298
        },
        "outputId": "5016d9f1-bb83-48cd-d32a-8d85cb377bf7"
      },
      "source": [
        "# feature importance\n",
        "print(best_xgb_model.feature_importances_)\n",
        "for col,score in zip(X_train.columns,model.feature_importances_):\n",
        "    print(col,score)\n",
        "# plot\n",
        "plt.bar(range(len(best_xgb_model.feature_importances_)), best_xgb_model.feature_importances_)\n",
        "plt.show()"
      ],
      "execution_count": 166,
      "outputs": [
        {
          "output_type": "stream",
          "text": [
            "[0.42556724 0.10469214 0.07618486 0.10933418 0.04395365 0.0946813\n",
            " 0.01563636 0.12995021]\n"
          ],
          "name": "stdout"
        },
        {
          "output_type": "display_data",
          "data": {
            "image/png": "[encoded data removed]",
            "text/plain": [
              "<Figure size 432x288 with 1 Axes>"
            ]
          },
          "metadata": {
            "tags": [],
            "needs_background": "light"
          }
        }
      ]
    },
    {
      "cell_type": "code",
      "metadata": {
        "id": "li-qi-stI083",
        "colab_type": "code",
        "colab": {
          "base_uri": "https://localhost:8080/",
          "height": 204
        },
        "outputId": "e291fd7c-b145-4fe5-ae91-8627e05c9234"
      },
      "source": [
        "plt.rcParams[\"figure.figsize\"] = (20,3)\n",
        "# plot\n",
        "plt.bar(best_xgb_model.get_booster().feature_names, best_xgb_model.feature_importances_)\n",
        "plt.show()"
      ],
      "execution_count": 173,
      "outputs": [
        {
          "output_type": "display_data",
          "data": {
            "image/png": "[encoded data removed]",
            "text/plain": [
              "<Figure size 1440x216 with 1 Axes>"
            ]
          },
          "metadata": {
            "tags": [],
            "needs_background": "light"
          }
        }
      ]
    },
    {
      "cell_type": "markdown",
      "metadata": {
        "id": "oKisTMAhLLRu",
        "colab_type": "text"
      },
      "source": [
        "To be done:\n",
        "\n",
        "1. visualize the graph to check seasonality/trend\n",
        "2. Check if stationary\n",
        "3. Try other imputation method\n",
        "4. Check the distribution\n",
        "5. Check cross validation methods\n",
        "6. Check different models\n"
      ]
    }
  ]
}